{
  "nbformat": 4,
  "nbformat_minor": 0,
  "metadata": {
    "colab": {
      "provenance": [],
      "authorship_tag": "ABX9TyMt/k2wvRfPotXUAbtFVQw5",
      "include_colab_link": true
    },
    "kernelspec": {
      "name": "python3",
      "display_name": "Python 3"
    },
    "language_info": {
      "name": "python"
    }
  },
  "cells": [
    {
      "cell_type": "markdown",
      "metadata": {
        "id": "view-in-github",
        "colab_type": "text"
      },
      "source": [
        "<a href=\"https://colab.research.google.com/github/Vasamsetti-venkat/python-ctr/blob/main/Untitled3.ipynb\" target=\"_parent\"><img src=\"https://colab.research.google.com/assets/colab-badge.svg\" alt=\"Open In Colab\"/></a>"
      ]
    },
    {
      "cell_type": "markdown",
      "source": [],
      "metadata": {
        "id": "ZHkaX0HFgOPP"
      }
    },
    {
      "cell_type": "markdown",
      "source": [
        "# **Encapsulation**"
      ],
      "metadata": {
        "id": "XKji5pMDf4zx"
      }
    },
    {
      "cell_type": "code",
      "execution_count": null,
      "metadata": {
        "colab": {
          "base_uri": "https://localhost:8080/"
        },
        "id": "bmf3a8mFRT2e",
        "outputId": "69a8070e-4e9e-4d3f-f433-89fc4f357679"
      },
      "outputs": [
        {
          "output_type": "stream",
          "name": "stdout",
          "text": [
            "venkat\n"
          ]
        }
      ],
      "source": [
        "class student():\n",
        "  def __init__(self,name):\n",
        "    self.name=name #public\n",
        "obj=student(\"venkat\")\n",
        "print(obj.name)"
      ]
    },
    {
      "cell_type": "code",
      "source": [
        "class student():\n",
        "  def __init__(self,name,rollnumber):\n",
        "    self.name=name #public\n",
        "    self.rollnumber=rollnumber #private\n",
        "obj=student(\"venkat\", \"22b21a45c6\")\n",
        "print(obj.name)\n",
        "print(obj.rollnumber)"
      ],
      "metadata": {
        "colab": {
          "base_uri": "https://localhost:8080/"
        },
        "id": "H6kTeJ3sR-oY",
        "outputId": "b4f8e15f-06e1-43d3-e463-aa9e05e06962"
      },
      "execution_count": null,
      "outputs": [
        {
          "output_type": "stream",
          "name": "stdout",
          "text": [
            "venkat\n",
            "22b21a45c6\n"
          ]
        }
      ]
    },
    {
      "cell_type": "code",
      "source": [
        "class student():\n",
        "  def __init__(self,name):\n",
        "    self.name=name #protect\n",
        "class child(student):\n",
        "  def display (self):\n",
        "    print(\"name:\",self.name)\n",
        "obj=child(\"venkat\")\n",
        "obj.display()"
      ],
      "metadata": {
        "colab": {
          "base_uri": "https://localhost:8080/"
        },
        "id": "H7xBDr0SUovI",
        "outputId": "986b2370-0324-46e7-ccc7-1353f21035ee"
      },
      "execution_count": null,
      "outputs": [
        {
          "output_type": "stream",
          "name": "stdout",
          "text": [
            "name: venkat\n"
          ]
        }
      ]
    },
    {
      "cell_type": "code",
      "source": [
        "class student():\n",
        "  def __init__(self,name, marks):\n",
        "    self.__name=name\n",
        "    self.__marks=marks #private\n",
        "  def display (self):\n",
        "    print(\"name:\",self.__name,\"marks:\",self.__marks)\n",
        "obj=student(\"venkat\",100)\n",
        "obj.display()"
      ],
      "metadata": {
        "colab": {
          "base_uri": "https://localhost:8080/"
        },
        "id": "Bmq8dT2ZYnAq",
        "outputId": "ba9be479-d0d9-4e53-ab33-17f31836d548"
      },
      "execution_count": null,
      "outputs": [
        {
          "output_type": "stream",
          "name": "stdout",
          "text": [
            "name: venkat marks: 100\n"
          ]
        }
      ]
    },
    {
      "cell_type": "code",
      "execution_count": null,
      "metadata": {
        "colab": {
          "base_uri": "https://localhost:8080/"
        },
        "id": "pcVSBfHgYZ8S",
        "outputId": "b34b94c8-d5f4-4744-ebcb-1bd955e0af84"
      },
      "outputs": [
        {
          "output_type": "stream",
          "name": "stdout",
          "text": [
            "20\n"
          ]
        }
      ],
      "source": [
        "class demo:\n",
        "    def __init__(self,a,b):\n",
        "        self.__a=a\n",
        "        self._b=b\n",
        "class demo2:\n",
        "    def __init__(self):\n",
        "        obj=demo(10,20)\n",
        "        print(obj._b)\n",
        "obj2=demo2()"
      ]
    },
    {
      "cell_type": "code",
      "source": [
        "class demo:\n",
        "  def __init__(self,a,b):\n",
        "    self.__a=a #private\n",
        "    self._b=b #protect\n",
        "class demo2(demo):\n",
        "  def output(self):\n",
        "    print(\"value:\",self._b)\n",
        "d=demo2(10,20)\n",
        "d.output()"
      ],
      "metadata": {
        "colab": {
          "base_uri": "https://localhost:8080/"
        },
        "id": "hIewKdwTdQh5",
        "outputId": "a309722a-60cc-4679-bbca-ed697c1f5341"
      },
      "execution_count": null,
      "outputs": [
        {
          "output_type": "stream",
          "name": "stdout",
          "text": [
            "value: 20\n"
          ]
        }
      ]
    },
    {
      "cell_type": "code",
      "source": [
        "class student:\n",
        "  def __init__(self,name,age):\n",
        "    self.__name=name\n",
        "    self.__age=age\n",
        "  def set_age(self,age):\n",
        "    self.__age=age\n",
        "  def get_age(self):\n",
        "    return self.__age\n",
        "obj=student(\"venkat\",19)\n",
        "print(obj.get_age())"
      ],
      "metadata": {
        "id": "xrMIahf_dYpu",
        "colab": {
          "base_uri": "https://localhost:8080/"
        },
        "outputId": "d14d6cd7-328d-47a3-d98a-68bcc22a2915"
      },
      "execution_count": 20,
      "outputs": [
        {
          "output_type": "stream",
          "name": "stdout",
          "text": [
            "19\n"
          ]
        }
      ]
    },
    {
      "cell_type": "code",
      "source": [
        "#private user modifier\n",
        "class student:\n",
        "  def __init__(self,name,age):\n",
        "    self.__age=age\n",
        "  def get_age(self):\n",
        "    return self.__age\n",
        "  def set_age(self,new__age):\n",
        "    if new__age>0:\n",
        "      self.__age=new__age\n",
        "    else:\n",
        "      print(\"invalid age\")\n",
        "s1=student(\"venkat\",19)\n",
        "print(s1.get_age())\n",
        "s1.set_age(20)\n",
        "print(s1.get_age())"
      ],
      "metadata": {
        "colab": {
          "base_uri": "https://localhost:8080/"
        },
        "id": "S0Uhx-Urhj12",
        "outputId": "66e2a2aa-28c9-4a49-9f13-6be9268d0618"
      },
      "execution_count": 24,
      "outputs": [
        {
          "output_type": "stream",
          "name": "stdout",
          "text": [
            "19\n",
            "20\n"
          ]
        }
      ]
    },
    {
      "cell_type": "code",
      "source": [],
      "metadata": {
        "id": "W_CTlIB6hlVb"
      },
      "execution_count": null,
      "outputs": []
    }
  ]
}